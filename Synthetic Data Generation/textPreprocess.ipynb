{
 "cells": [
  {
   "cell_type": "markdown",
   "id": "d5641e41",
   "metadata": {},
   "source": [
    "### Preprocess txt file\n",
    "- Remove non vocab signs\n",
    "- Repeated lines\n",
    "- Remove qs (not in Copiale)"
   ]
  },
  {
   "cell_type": "code",
   "execution_count": 1,
   "id": "89f77c5f",
   "metadata": {},
   "outputs": [],
   "source": [
    "import string\n",
    "import unicodedata\n",
    "\n",
    "def clean_text_file(input_path, output_path):\n",
    "    seen_lines = set()\n",
    "\n",
    "    with open(input_path, 'r', encoding='utf-8') as infile, \\\n",
    "         open(output_path, 'w', encoding='utf-8') as outfile:\n",
    "\n",
    "        for line in infile:\n",
    "            # Remove letter 'q' and 'Q'\n",
    "            line = line.replace('q', '').replace('Q', '')\n",
    "\n",
    "            # Remove all punctuation and symbols (including Unicode)\n",
    "            line = ''.join(\n",
    "                char for char in line\n",
    "                if not (unicodedata.category(char).startswith('P') or unicodedata.category(char).startswith('S'))\n",
    "            )\n",
    "            \n",
    "            # Remove numbers\n",
    "            line = ''.join(char for char in line if not char.isdigit())\n",
    "\n",
    "            # Strip whitespace and skip if empty or already seen\n",
    "            stripped_line = line.strip()\n",
    "            # Remove 'ß' character\n",
    "            stripped_line = stripped_line.replace('ß', '')\n",
    "            \n",
    "            if stripped_line and stripped_line not in seen_lines:\n",
    "                seen_lines.add(stripped_line)\n",
    "                outfile.write(stripped_line + '\\n')"
   ]
  },
  {
   "cell_type": "code",
   "execution_count": 2,
   "id": "4fd4f8ff",
   "metadata": {},
   "outputs": [],
   "source": [
    "\n",
    "clean_text_file('/home/moliveros/Datasets/Kritik der reinen Vernunft Kant.txt', '/home/moliveros/Datasets/KritikDerReinenVernunftKant.txt')"
   ]
  }
 ],
 "metadata": {
  "kernelspec": {
   "display_name": "cvc2.1",
   "language": "python",
   "name": "python3"
  },
  "language_info": {
   "codemirror_mode": {
    "name": "ipython",
    "version": 3
   },
   "file_extension": ".py",
   "mimetype": "text/x-python",
   "name": "python",
   "nbconvert_exporter": "python",
   "pygments_lexer": "ipython3",
   "version": "3.9.21"
  }
 },
 "nbformat": 4,
 "nbformat_minor": 5
}
