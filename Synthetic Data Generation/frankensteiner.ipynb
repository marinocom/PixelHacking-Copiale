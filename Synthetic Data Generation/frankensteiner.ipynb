{
 "cells": [
  {
   "cell_type": "code",
   "execution_count": 3,
   "metadata": {},
   "outputs": [],
   "source": [
    "def merge_split(split, dataset_a, dataset_b, output_dir):\n",
    "    import os\n",
    "    import json\n",
    "    import shutil\n",
    "\n",
    "    # Paths\n",
    "    a_img_dir = os.path.join(dataset_a, split)\n",
    "    b_img_dir = os.path.join(dataset_b, split)\n",
    "    a_json_path = os.path.join(dataset_a, f\"{split}.json\")\n",
    "    b_json_path = os.path.join(dataset_b, f\"{split}.json\")\n",
    "    out_img_dir = os.path.join(output_dir, split)\n",
    "    out_json_path = os.path.join(output_dir, f\"{split}.json\")\n",
    "    os.makedirs(out_img_dir, exist_ok=True)\n",
    "\n",
    "    # Load JSONs as dicts\n",
    "    with open(a_json_path, 'r') as f:\n",
    "        a_json = json.load(f)\n",
    "    with open(b_json_path, 'r') as f:\n",
    "        b_json = json.load(f)\n",
    "\n",
    "    merged_json = {}\n",
    "    # Copy A images\n",
    "    for img_name, meta in a_json.items():\n",
    "        new_img_name = f\"A_{img_name}\"\n",
    "        src = os.path.join(a_img_dir, img_name)\n",
    "        dst = os.path.join(out_img_dir, new_img_name)\n",
    "        if os.path.exists(src):\n",
    "            shutil.copy(src, dst)\n",
    "        else:\n",
    "            print(f\"Warning: {src} does not exist!\")\n",
    "        merged_json[new_img_name] = meta\n",
    "    # Copy B images\n",
    "    for img_name, meta in b_json.items():\n",
    "        new_img_name = f\"B_{img_name}\"\n",
    "        src = os.path.join(b_img_dir, img_name)\n",
    "        dst = os.path.join(out_img_dir, new_img_name)\n",
    "        if os.path.exists(src):\n",
    "            shutil.copy(src, dst)\n",
    "        else:\n",
    "            print(f\"Warning: {src} does not exist!\")\n",
    "        merged_json[new_img_name] = meta\n",
    "    # Save merged JSON as dict\n",
    "    with open(out_json_path, 'w') as f:\n",
    "        json.dump(merged_json, f, indent=2)\n"
   ]
  },
  {
   "cell_type": "code",
   "execution_count": 4,
   "metadata": {},
   "outputs": [
    {
     "name": "stdout",
     "output_type": "stream",
     "text": [
      "Frankenstein dataset created!\n"
     ]
    }
   ],
   "source": [
    "\n",
    "# Usage\n",
    "dataset_a = '/home/moliveros/Datasets/FaustBibleKantDataset'\n",
    "dataset_b = '/home/moliveros/Datasets/DerNachsommerLineSplitSplit'\n",
    "output_dir = '/home/moliveros/Datasets/FaustBibleKantNachsommerDataset'\n",
    "\n",
    "for split in ['train', 'val', 'test']:\n",
    "    merge_split(split, dataset_a, dataset_b, output_dir)\n",
    "\n",
    "print(\"Frankenstein dataset created!\")"
   ]
  }
 ],
 "metadata": {
  "kernelspec": {
   "display_name": "cvc2.1",
   "language": "python",
   "name": "python3"
  },
  "language_info": {
   "codemirror_mode": {
    "name": "ipython",
    "version": 3
   },
   "file_extension": ".py",
   "mimetype": "text/x-python",
   "name": "python",
   "nbconvert_exporter": "python",
   "pygments_lexer": "ipython3",
   "version": "3.9.21"
  }
 },
 "nbformat": 4,
 "nbformat_minor": 2
}
