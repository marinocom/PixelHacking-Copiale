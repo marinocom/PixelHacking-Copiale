{
 "cells": [
  {
   "cell_type": "code",
   "execution_count": 1,
   "id": "85ff3a69",
   "metadata": {},
   "outputs": [],
   "source": [
    "def split_sentences(text):\n",
    "    lines = text.split('\\n')\n",
    "    result = []\n",
    "    for line in lines:\n",
    "        if not line.strip():  # skip empty lines\n",
    "            result.append('')\n",
    "            continue\n",
    "            \n",
    "        words = line.split()\n",
    "        if len(words) <= 1:  # don't split single words\n",
    "            result.append(line)\n",
    "            continue\n",
    "            \n",
    "        # Find the middle space to split at\n",
    "        mid_point = len(words) // 2\n",
    "        first_half = ' '.join(words[:mid_point])\n",
    "        second_half = ' '.join(words[mid_point:])\n",
    "        \n",
    "        result.append(first_half)\n",
    "        result.append(second_half)\n",
    "    \n",
    "    return '\\n'.join(result)\n",
    "\n",
    "def process_file(input_file, output_file):\n",
    "    try:\n",
    "        with open(input_file, 'r', encoding='utf-8') as f:\n",
    "            text = f.read()\n",
    "        \n",
    "        processed_text = split_sentences(text)\n",
    "        \n",
    "        with open(output_file, 'w', encoding='utf-8') as f:\n",
    "            f.write(processed_text)\n",
    "        \n",
    "        print(f\"Successfully processed {input_file}. Output written to {output_file}\")\n",
    "    except FileNotFoundError:\n",
    "        print(f\"Error: The file {input_file} was not found.\")\n",
    "    except Exception as e:\n",
    "        print(f\"An error occurred: {str(e)}\")"
   ]
  },
  {
   "cell_type": "code",
   "execution_count": 2,
   "id": "5f06d32d",
   "metadata": {},
   "outputs": [
    {
     "name": "stdout",
     "output_type": "stream",
     "text": [
      "Successfully processed /home/moliveros/Datasets/BibleDataset/BiblePreprocessedLineSplit.txt. Output written to /home/moliveros/Datasets/BibleDataset/BiblePreprocessedLineSplitMore.txt\n"
     ]
    }
   ],
   "source": [
    "if __name__ == \"__main__\":\n",
    "    input_filename = \"/home/moliveros/Datasets/BibleDataset/BiblePreprocessedLineSplit.txt\"\n",
    "    output_filename = \"/home/moliveros/Datasets/BibleDataset/BiblePreprocessedLineSplitMore.txt\"\n",
    "    process_file(input_filename, output_filename)"
   ]
  }
 ],
 "metadata": {
  "kernelspec": {
   "display_name": "my_trocr_conda_env",
   "language": "python",
   "name": "python3"
  },
  "language_info": {
   "codemirror_mode": {
    "name": "ipython",
    "version": 3
   },
   "file_extension": ".py",
   "mimetype": "text/x-python",
   "name": "python",
   "nbconvert_exporter": "python",
   "pygments_lexer": "ipython3",
   "version": "3.9.21"
  }
 },
 "nbformat": 4,
 "nbformat_minor": 5
}
