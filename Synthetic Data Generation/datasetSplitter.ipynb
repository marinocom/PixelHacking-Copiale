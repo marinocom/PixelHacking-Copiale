{
 "cells": [
  {
   "cell_type": "markdown",
   "id": "22e6f801",
   "metadata": {},
   "source": [
    "# **Dataset splitter**\n",
    "From a json and image folder turn it into 3 different train, val, test folders and json files respectively"
   ]
  },
  {
   "cell_type": "code",
   "execution_count": 1,
   "id": "3d99ef45",
   "metadata": {},
   "outputs": [],
   "source": [
    "import os\n",
    "import json\n",
    "import shutil\n",
    "import random\n",
    "from pathlib import Path\n",
    "\n",
    "# ======================\n",
    "\n",
    "def load_json(path):\n",
    "    with open(path, 'r', encoding='utf-8') as f:\n",
    "        return json.load(f)\n",
    "\n",
    "def save_json(data, path):\n",
    "    with open(path, 'w', encoding='utf-8') as f:\n",
    "        json.dump(data, f, indent=2, ensure_ascii=False)\n",
    "\n",
    "def split_data(entries, split_ratio):\n",
    "    random.shuffle(entries)\n",
    "    total = len(entries)\n",
    "    train_end = int(split_ratio[0] / 100 * total)\n",
    "    val_end = train_end + int(split_ratio[1] / 100 * total)\n",
    "    return entries[:train_end], entries[train_end:val_end], entries[val_end:]\n",
    "\n",
    "def prepare_output_dirs(base_dir):\n",
    "    for split in ['train', 'val', 'test']:\n",
    "        os.makedirs(os.path.join(base_dir, split), exist_ok=True)\n",
    "\n",
    "def process_split(filenames, name, image_dir, output_dir, data):\n",
    "    split_json = {}\n",
    "    for fname in sorted(filenames):  # Sort alphabetically/numerically\n",
    "        src_path = os.path.join(image_dir, fname)\n",
    "        dst_path = os.path.join(output_dir, name, fname)\n",
    "        if not os.path.isfile(src_path):\n",
    "            print(f\"[Warning] Image not found: {fname}\")\n",
    "            continue\n",
    "        shutil.copy2(src_path, dst_path)\n",
    "        split_json[fname] = data[fname]\n",
    "    # Save the JSON in the main output directory, not inside the split folder\n",
    "    save_json(split_json, os.path.join(output_dir, f\"{name}.json\"))"
   ]
  },
  {
   "cell_type": "code",
   "execution_count": 2,
   "id": "cba81d94",
   "metadata": {},
   "outputs": [
    {
     "name": "stdout",
     "output_type": "stream",
     "text": [
      "Done: 10199 train, 1274 val, 1276 test samples.\n"
     ]
    }
   ],
   "source": [
    "# === CONFIGURATION ===\n",
    "json_path = \"/home/moliveros/Datasets/faustLabels.json\"       # Path to the JSON file\n",
    "image_dir = \"/home/moliveros/Datasets/faust\"                 # Folder containing images\n",
    "output_dir = \"/home/moliveros/Datasets/faustSplit\"              # Output directory for splits\n",
    "split_ratio = [80, 10, 10]           # Split percentages for train, val, test\n",
    "\n",
    "def main():\n",
    "    if sum(split_ratio) != 100:\n",
    "        raise ValueError(\"Split ratios must sum to 100.\")\n",
    "\n",
    "    data = load_json(json_path)\n",
    "    all_files = list(data.keys())\n",
    "\n",
    "    train, val, test = split_data(all_files, split_ratio)\n",
    "\n",
    "    prepare_output_dirs(output_dir)\n",
    "\n",
    "    process_split(train, \"train\", image_dir, output_dir, data)\n",
    "    process_split(val, \"val\", image_dir, output_dir, data)\n",
    "    process_split(test, \"test\", image_dir, output_dir, data)\n",
    "\n",
    "    print(f\"Done: {len(train)} train, {len(val)} val, {len(test)} test samples.\")\n",
    "\n",
    "if __name__ == \"__main__\":\n",
    "    main()"
   ]
  }
 ],
 "metadata": {
  "kernelspec": {
   "display_name": "cvc2.1",
   "language": "python",
   "name": "python3"
  },
  "language_info": {
   "codemirror_mode": {
    "name": "ipython",
    "version": 3
   },
   "file_extension": ".py",
   "mimetype": "text/x-python",
   "name": "python",
   "nbconvert_exporter": "python",
   "pygments_lexer": "ipython3",
   "version": "3.9.21"
  }
 },
 "nbformat": 4,
 "nbformat_minor": 5
}
